{
 "cells": [
  {
   "metadata": {},
   "cell_type": "markdown",
   "source": [
    "# Symmetric Encryption\n",
    "Excerpt from *[Symmetric-key algorithm](https://en.wikipedia.org/wiki/Symmetric-key_algorithm) on Wikipedia*:\n",
    "\n",
    "Symmetric-key algorithms are algorithms for cryptography that use the same cryptographic keys for both the encryption of plaintext and the decryption of ciphertext. The keys may be identical, or there may be a simple transformation to go between the two keys.\n",
    "\n",
    "The keys, in practice, represent a shared secret between two or more parties that can be used to maintain a private information link. The requirement that both parties have access to the secret key is one of the main drawbacks of symmetric-key encryption, in comparison to public-key encryption (also known as asymmetric-key encryption).\n",
    "\n",
    "However, symmetric-key encryption algorithms are usually better for bulk encryption. Except for the one-time pad, they have a smaller key size, which means less storage space and faster transmission. Due to this, asymmetric-key encryption is often used to exchange the secret key for symmetric-key encryption."
   ],
   "id": "31904e2fe49ea2f9"
  },
  {
   "metadata": {},
   "cell_type": "markdown",
   "source": [
    "## AES Encryption\n",
    "The classic encryption from the early 2000's, estbalished by US NIST in 2001.\n",
    "\n",
    "Excerpt *from [Advanced Encryption Standard](https://en.wikipedia.org/wiki/Advanced_Encryption_Standard) on Wikipedia.*:\n",
    "\n",
    "AES is a variant of the Rijndael block cipher[5] developed by two Belgian cryptographers, Joan Daemen and Vincent Rijmen, who submitted a proposal[7] to NIST during the AES selection process.[8] Rijndael is a family of ciphers with different key and block sizes. For AES, NIST selected three members of the Rijndael family, each with a block size of 128 bits, but three different key lengths: 128, 192 and 256 bits.\n",
    "\n",
    "AES has been adopted by the U.S. government. It supersedes the Data Encryption Standard (DES), which was published in 1977. The algorithm described by AES is a symmetric-key algorithm, meaning the same key is used for both encrypting and decrypting the data.\n",
    "\n",
    "In the United States, AES was announced by the NIST as U.S. FIPS PUB 197 (FIPS 197) on November 26, 2001. This announcement followed a five-year standardization process in which fifteen competing designs were presented and evaluated, before the Rijndael cipher was selected as the most suitable.\n",
    "\n",
    "AES is included in the ISO/IEC 18033-3 standard. AES became effective as a U.S. federal government standard on May 26, 2002, after approval by U.S. Secretary of Commerce Donald Evans. AES is available in many different encryption packages, and is the first (and only) publicly accessible cipher approved by the U.S. National Security Agency (NSA) for top secret information when used in an NSA approved cryptographic module."
   ],
   "id": "cacdc4588c23db0d"
  },
  {
   "cell_type": "code",
   "id": "initial_id",
   "metadata": {
    "collapsed": true,
    "tags": [
     "AES-256"
    ],
    "ExecuteTime": {
     "end_time": "2024-12-11T20:06:29.873691Z",
     "start_time": "2024-12-11T20:06:29.743804Z"
    }
   },
   "source": [
    "from cryptography.hazmat.primitives.ciphers import Cipher, algorithms, modes\n",
    "from cryptography.hazmat.primitives.kdf.pbkdf2 import PBKDF2HMAC\n",
    "from cryptography.hazmat.primitives import hashes\n",
    "from cryptography.hazmat.primitives.padding import PKCS7\n",
    "from cryptography.hazmat.backends import default_backend\n",
    "import os\n",
    "\n",
    "# Function to derive a key using PBKDF2\n",
    "def derive_key(password: str, salt: bytes) -> bytes:\n",
    "    kdf = PBKDF2HMAC(\n",
    "        algorithm=hashes.SHA256(),\n",
    "        length=32,  # AES-256 requires a 256-bit (32-byte) key\n",
    "        salt=salt,\n",
    "        iterations=100000,\n",
    "        backend=default_backend()\n",
    "    )\n",
    "    return kdf.derive(password.encode())\n",
    "\n",
    "# Encrypt function\n",
    "def encrypt(data: str, password: str) -> (bytes, bytes, bytes):\n",
    "    salt = os.urandom(16)  # Generate a random salt\n",
    "    key = derive_key(password, salt)  # Derive the key\n",
    "    iv = os.urandom(16)  # AES requires a 16-byte IV\n",
    "\n",
    "    cipher = Cipher(algorithms.AES(key), modes.CBC(iv), backend=default_backend())\n",
    "    encryptor = cipher.encryptor()\n",
    "    padder = PKCS7(algorithms.AES.block_size).padder()\n",
    "    padded_data = padder.update(data.encode()) + padder.finalize()\n",
    "    ciphertext = encryptor.update(padded_data) + encryptor.finalize()\n",
    "\n",
    "    return ciphertext, salt, iv\n",
    "\n",
    "# Decrypt function\n",
    "def decrypt(ciphertext: bytes, password: str, salt: bytes, iv: bytes) -> str:\n",
    "    key = derive_key(password, salt)\n",
    "    cipher = Cipher(algorithms.AES(key), modes.CBC(iv), backend=default_backend())\n",
    "    decryptor = cipher.decryptor()\n",
    "\n",
    "    padded_data = decryptor.update(ciphertext) + decryptor.finalize()\n",
    "    unpadder = PKCS7(algorithms.AES.block_size).unpadder()\n",
    "    data = unpadder.update(padded_data) + unpadder.finalize()\n",
    "\n",
    "    return data.decode()\n",
    "\n",
    "# Example usage\n",
    "if __name__ == \"__main__\":\n",
    "    key_string = \"strong password\"\n",
    "    data = \"This is a test string for AES-256 encryption.\"\n",
    "\n",
    "    ciphertext, salt, iv = encrypt(data, key_string)\n",
    "    print(f\"Ciphertext: {ciphertext.hex()}\")\n",
    "\n",
    "    decrypted_data = decrypt(ciphertext, key_string, salt, iv)\n",
    "    print(f\"Decrypted Data: {decrypted_data}\")"
   ],
   "outputs": [
    {
     "name": "stdout",
     "output_type": "stream",
     "text": [
      "Ciphertext: 8d963d78f9e69867ce363d2e553f4ca6879f127e88ad2d59fa29271e981f09f0f4094562f169665da5f2d9dbcf28c808\n",
      "Decrypted Data: This is a test string for AES-256 encryption.\n"
     ]
    }
   ],
   "execution_count": 10
  }
 ],
 "metadata": {
  "kernelspec": {
   "display_name": "Python 3",
   "language": "python",
   "name": "python3"
  },
  "language_info": {
   "codemirror_mode": {
    "name": "ipython",
    "version": 2
   },
   "file_extension": ".py",
   "mimetype": "text/x-python",
   "name": "python",
   "nbconvert_exporter": "python",
   "pygments_lexer": "ipython2",
   "version": "2.7.6"
  }
 },
 "nbformat": 4,
 "nbformat_minor": 5
}
