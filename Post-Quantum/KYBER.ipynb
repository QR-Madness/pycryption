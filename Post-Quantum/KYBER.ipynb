{
 "cells": [
  {
   "metadata": {},
   "cell_type": "markdown",
   "source": [
    "# Crystal-KYBER Encapsulation\n",
    "Implementation based off: https://github.com/GiacomoPope/kyber-py?tab=readme-ov-file"
   ],
   "id": "4ab683bdaef97a7a"
  },
  {
   "metadata": {
    "ExecuteTime": {
     "end_time": "2024-12-11T20:25:19.211411Z",
     "start_time": "2024-12-11T20:25:19.206758Z"
    }
   },
   "cell_type": "code",
   "source": "",
   "id": "dc1a330bc8169c9b",
   "outputs": [],
   "execution_count": null
  }
 ],
 "metadata": {
  "kernelspec": {
   "display_name": "Python 3",
   "language": "python",
   "name": "python3"
  },
  "language_info": {
   "codemirror_mode": {
    "name": "ipython",
    "version": 2
   },
   "file_extension": ".py",
   "mimetype": "text/x-python",
   "name": "python",
   "nbconvert_exporter": "python",
   "pygments_lexer": "ipython2",
   "version": "2.7.6"
  }
 },
 "nbformat": 4,
 "nbformat_minor": 5
}
